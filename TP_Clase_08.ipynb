{
 "cells": [
  {
   "cell_type": "markdown",
   "metadata": {
    "colab_type": "text",
    "id": "LGZukNduexDR"
   },
   "source": [
    "____\n",
    "__Universidad Tecnológica Nacional, Buenos Aires__<br/>\n",
    "__Ingeniería Industrial__<br/>\n",
    "__Ciencias de Catos - Caso Practico Clase_08__<br/>\n",
    "__Alumno: Vaccarello, Fabrizio__<br/>\n",
    "\n",
    "____"
   ]
  },
  {
   "cell_type": "code",
   "execution_count": 1,
   "metadata": {},
   "outputs": [],
   "source": [
    "#Datos\n",
    "import pandas as pd\n",
    "import numpy as np\n",
    "#Graficos \n",
    "import matplotlib.pyplot as plt\n",
    "import seaborn as sns\n",
    "#Otros \n",
    "import warnings"
   ]
  },
  {
   "cell_type": "code",
   "execution_count": 2,
   "metadata": {},
   "outputs": [],
   "source": [
    "from sklearn import preprocessing\n",
    "from sklearn.model_selection import train_test_split , GridSearchCV\n",
    "from sklearn.preprocessing import PolynomialFeatures\n",
    "from sklearn.preprocessing import StandardScaler,MinMaxScaler\n",
    "from sklearn.svm import SVR\n",
    "from sklearn.svm import LinearSVR\n",
    "from sklearn.linear_model import LinearRegression , Ridge\n",
    "from sklearn.neighbors import KNeighborsRegressor\n",
    "from sklearn.metrics import r2_score, mean_squared_error, mean_absolute_error\n",
    "\n"
   ]
  },
  {
   "cell_type": "code",
   "execution_count": 3,
   "metadata": {},
   "outputs": [],
   "source": [
    "df_train = pd.read_csv ('Xy_train.csv', delimiter = ',')\n",
    "test = pd.read_csv ('X_test.csv' , delimiter = ',' )"
   ]
  },
  {
   "cell_type": "code",
   "execution_count": 4,
   "metadata": {},
   "outputs": [
    {
     "data": {
      "text/plain": [
       "(100, 2)"
      ]
     },
     "execution_count": 4,
     "metadata": {},
     "output_type": "execute_result"
    }
   ],
   "source": [
    "df_train.shape"
   ]
  },
  {
   "cell_type": "code",
   "execution_count": 5,
   "metadata": {},
   "outputs": [
    {
     "data": {
      "text/html": [
       "<div>\n",
       "<style scoped>\n",
       "    .dataframe tbody tr th:only-of-type {\n",
       "        vertical-align: middle;\n",
       "    }\n",
       "\n",
       "    .dataframe tbody tr th {\n",
       "        vertical-align: top;\n",
       "    }\n",
       "\n",
       "    .dataframe thead th {\n",
       "        text-align: right;\n",
       "    }\n",
       "</style>\n",
       "<table border=\"1\" class=\"dataframe\">\n",
       "  <thead>\n",
       "    <tr style=\"text-align: right;\">\n",
       "      <th></th>\n",
       "      <th>X</th>\n",
       "      <th>y</th>\n",
       "    </tr>\n",
       "  </thead>\n",
       "  <tbody>\n",
       "    <tr>\n",
       "      <th>count</th>\n",
       "      <td>100.000000</td>\n",
       "      <td>100.000000</td>\n",
       "    </tr>\n",
       "    <tr>\n",
       "      <th>mean</th>\n",
       "      <td>4.534694</td>\n",
       "      <td>5.073047</td>\n",
       "    </tr>\n",
       "    <tr>\n",
       "      <th>std</th>\n",
       "      <td>2.734487</td>\n",
       "      <td>2.398315</td>\n",
       "    </tr>\n",
       "    <tr>\n",
       "      <th>min</th>\n",
       "      <td>0.050223</td>\n",
       "      <td>-0.259323</td>\n",
       "    </tr>\n",
       "    <tr>\n",
       "      <th>25%</th>\n",
       "      <td>2.415300</td>\n",
       "      <td>3.735343</td>\n",
       "    </tr>\n",
       "    <tr>\n",
       "      <th>50%</th>\n",
       "      <td>3.999217</td>\n",
       "      <td>4.670649</td>\n",
       "    </tr>\n",
       "    <tr>\n",
       "      <th>75%</th>\n",
       "      <td>6.686171</td>\n",
       "      <td>5.761732</td>\n",
       "    </tr>\n",
       "    <tr>\n",
       "      <th>max</th>\n",
       "      <td>9.728298</td>\n",
       "      <td>13.930549</td>\n",
       "    </tr>\n",
       "  </tbody>\n",
       "</table>\n",
       "</div>"
      ],
      "text/plain": [
       "                X           y\n",
       "count  100.000000  100.000000\n",
       "mean     4.534694    5.073047\n",
       "std      2.734487    2.398315\n",
       "min      0.050223   -0.259323\n",
       "25%      2.415300    3.735343\n",
       "50%      3.999217    4.670649\n",
       "75%      6.686171    5.761732\n",
       "max      9.728298   13.930549"
      ]
     },
     "execution_count": 5,
     "metadata": {},
     "output_type": "execute_result"
    }
   ],
   "source": [
    "df_train.describe()"
   ]
  },
  {
   "cell_type": "code",
   "execution_count": 6,
   "metadata": {},
   "outputs": [
    {
     "data": {
      "text/plain": [
       "X    0\n",
       "y    0\n",
       "dtype: int64"
      ]
     },
     "execution_count": 6,
     "metadata": {},
     "output_type": "execute_result"
    }
   ],
   "source": [
    "df_train.isnull().sum()"
   ]
  },
  {
   "cell_type": "code",
   "execution_count": 7,
   "metadata": {},
   "outputs": [
    {
     "data": {
      "image/png": "[encoded data removed]",
      "text/plain": [
       "<Figure size 360x360 with 6 Axes>"
      ]
     },
     "metadata": {
      "needs_background": "light"
     },
     "output_type": "display_data"
    }
   ],
   "source": [
    "sns.pairplot(df_train)\n",
    "\n",
    "plt.show()"
   ]
  },
  {
   "cell_type": "code",
   "execution_count": 8,
   "metadata": {},
   "outputs": [
    {
     "name": "stdout",
     "output_type": "stream",
     "text": [
      "el cuantil 0.99 de la feature 'Y' es = 13.81368477332469\n",
      "el cuantil 0.001 de la feature 'Y' es = -0.1123806807409476\n"
     ]
    }
   ],
   "source": [
    "y_q99 = df_train.y.quantile(0.99)\n",
    "print(\"el cuantil 0.99 de la feature 'Y' es = \" + str(y_q99))\n",
    "y_q001 = df_train.y.quantile(0.001)\n",
    "print(\"el cuantil 0.001 de la feature 'Y' es = \" + str(y_q001))\n"
   ]
  },
  {
   "cell_type": "code",
   "execution_count": 9,
   "metadata": {},
   "outputs": [],
   "source": [
    "df_train_filtrado = df_train.loc[(df_train.y > y_q001 ) & (df_train.y < y_q99 ) ]"
   ]
  },
  {
   "cell_type": "code",
   "execution_count": 10,
   "metadata": {},
   "outputs": [
    {
     "name": "stdout",
     "output_type": "stream",
     "text": [
      "(98, 1) (98,)\n"
     ]
    }
   ],
   "source": [
    "x = df_train_filtrado.iloc[:,:-1].values\n",
    "y = df_train_filtrado.iloc[:,-1].values\n",
    "print(x.shape,y.shape)"
   ]
  },
  {
   "cell_type": "markdown",
   "metadata": {},
   "source": [
    "# Split Train and Test Set"
   ]
  },
  {
   "cell_type": "code",
   "execution_count": 11,
   "metadata": {},
   "outputs": [],
   "source": [
    "# Separamos set de entrenamiento y testeo\n",
    "x_train, x_test, y_train, y_test = train_test_split(x,y, test_size=0.25, random_state=42)\n",
    "# Separamos el set X con las features polinomicas (el set Y ya fue separado en la linea anterior) \n",
    "x_train_poly, x_test_poly = train_test_split(x, test_size=0.25, random_state=42)"
   ]
  },
  {
   "cell_type": "code",
   "execution_count": 12,
   "metadata": {},
   "outputs": [],
   "source": [
    "x_train = x_train.reshape(-1, 1)\n",
    "x_test = x_test.reshape(-1, 1)"
   ]
  },
  {
   "cell_type": "markdown",
   "metadata": {},
   "source": [
    "# Scaler"
   ]
  },
  {
   "cell_type": "code",
   "execution_count": 13,
   "metadata": {},
   "outputs": [
    {
     "data": {
      "text/plain": [
       "StandardScaler()"
      ]
     },
     "execution_count": 13,
     "metadata": {},
     "output_type": "execute_result"
    }
   ],
   "source": [
    "scaler = preprocessing.StandardScaler().fit(x_train)\n",
    "scaler"
   ]
  },
  {
   "cell_type": "code",
   "execution_count": 14,
   "metadata": {},
   "outputs": [],
   "source": [
    "x_train_scaled = scaler.transform(x_train)\n",
    "x_test_scaled = scaler.transform(x_test)"
   ]
  },
  {
   "cell_type": "code",
   "execution_count": 15,
   "metadata": {},
   "outputs": [],
   "source": [
    "poli_reg = PolynomialFeatures(degree = 3)"
   ]
  },
  {
   "cell_type": "code",
   "execution_count": 16,
   "metadata": {},
   "outputs": [],
   "source": [
    "x_train_poly_scaled = poli_reg.fit_transform(x_train_scaled)\n",
    "x_test_poly_scaled = poli_reg.fit_transform(x_test_scaled)"
   ]
  },
  {
   "cell_type": "code",
   "execution_count": 17,
   "metadata": {},
   "outputs": [],
   "source": [
    "# Vamos a crear un dataframe para guardar los resultados del estimador\n",
    "results_df = pd.DataFrame(columns=['Model','Features','MSE'])"
   ]
  },
  {
   "cell_type": "markdown",
   "metadata": {},
   "source": [
    "# RIDGE - Polynomial Features"
   ]
  },
  {
   "cell_type": "code",
   "execution_count": 18,
   "metadata": {},
   "outputs": [],
   "source": [
    "#Definimos estimador\n",
    "est = Ridge()\n",
    "#Definimos diccionario con hyperparametros\n",
    "parameters = {'fit_intercept' : [False, True]}\n",
    "#Definimos el objeto grid search\n",
    "gs = GridSearchCV(est, param_grid=parameters,refit=True, cv=5, scoring=\"neg_mean_squared_error\")\n",
    "# Ajusto en modelo Ridge polinomial\n",
    "gs.fit(x_train_poly_scaled, y_train)\n",
    "# Obtengo mejor estimador\n",
    "pred_poly=gs.best_estimator_"
   ]
  },
  {
   "cell_type": "code",
   "execution_count": 19,
   "metadata": {},
   "outputs": [],
   "source": [
    "# Predecimos para el set polinomico\n",
    "poly_ridge_prediction = pred_poly.predict(x_test_poly_scaled)\n",
    "# Calculamos MSE\n",
    "poly_ridge_mse = mean_squared_error(y_true=y_test, y_pred=poly_ridge_prediction)"
   ]
  },
  {
   "cell_type": "code",
   "execution_count": 20,
   "metadata": {},
   "outputs": [
    {
     "data": {
      "text/plain": [
       "(0.0, 15.0)"
      ]
     },
     "execution_count": 20,
     "metadata": {},
     "output_type": "execute_result"
    },
    {
     "data": {
      "image/png": "[encoded data removed]",
      "text/plain": [
       "<Figure size 432x288 with 1 Axes>"
      ]
     },
     "metadata": {
      "needs_background": "light"
     },
     "output_type": "display_data"
    }
   ],
   "source": [
    "#Vamos a plotear Predictions vs True values del set polinomico\n",
    "plt.scatter(poly_ridge_prediction, y_test)\n",
    "plt.plot(np.arange(0,15),np.arange(0,15), 'r', label='Identity')\n",
    "plt.xlabel('Predictions')\n",
    "plt.ylabel('True Values')\n",
    "plt.legend()\n",
    "plt.xlim((0,15))\n",
    "plt.ylim((0,15))"
   ]
  },
  {
   "cell_type": "code",
   "execution_count": 21,
   "metadata": {},
   "outputs": [
    {
     "data": {
      "text/html": [
       "<div>\n",
       "<style scoped>\n",
       "    .dataframe tbody tr th:only-of-type {\n",
       "        vertical-align: middle;\n",
       "    }\n",
       "\n",
       "    .dataframe tbody tr th {\n",
       "        vertical-align: top;\n",
       "    }\n",
       "\n",
       "    .dataframe thead th {\n",
       "        text-align: right;\n",
       "    }\n",
       "</style>\n",
       "<table border=\"1\" class=\"dataframe\">\n",
       "  <thead>\n",
       "    <tr style=\"text-align: right;\">\n",
       "      <th></th>\n",
       "      <th>Model</th>\n",
       "      <th>Features</th>\n",
       "      <th>MSE</th>\n",
       "    </tr>\n",
       "  </thead>\n",
       "  <tbody>\n",
       "    <tr>\n",
       "      <th>0</th>\n",
       "      <td>Ridge</td>\n",
       "      <td>Poly</td>\n",
       "      <td>0.43899</td>\n",
       "    </tr>\n",
       "  </tbody>\n",
       "</table>\n",
       "</div>"
      ],
      "text/plain": [
       "   Model Features      MSE\n",
       "0  Ridge     Poly  0.43899"
      ]
     },
     "execution_count": 21,
     "metadata": {},
     "output_type": "execute_result"
    }
   ],
   "source": [
    "#Guardamos resultados\n",
    "results_df = results_df.append({'Model':'Ridge',\n",
    "                                'Features':'Poly','MSE':poly_ridge_mse},ignore_index=True)\n",
    "results_df"
   ]
  },
  {
   "cell_type": "markdown",
   "metadata": {},
   "source": [
    "# Prediccion para el Test Dataset"
   ]
  },
  {
   "cell_type": "code",
   "execution_count": 22,
   "metadata": {},
   "outputs": [],
   "source": [
    "# Predecimos el Test Dataset con Ridge Polinomial\n",
    "poly_ridge_prediction = pred_poly.predict(x_test_poly_scaled)"
   ]
  },
  {
   "cell_type": "code",
   "execution_count": 23,
   "metadata": {},
   "outputs": [
    {
     "data": {
      "text/plain": [
       "array([ 4.23,  3.9 ,  5.11,  4.92,  4.03,  8.09,  4.15,  9.26,  5.05,\n",
       "        4.96, 10.61,  2.85,  3.78,  3.82,  5.02,  4.79,  4.33,  3.11,\n",
       "        7.89,  4.94,  2.38,  4.79,  7.61,  4.13,  4.42])"
      ]
     },
     "execution_count": 23,
     "metadata": {},
     "output_type": "execute_result"
    }
   ],
   "source": [
    "poly_ridge_prediction.round(2)"
   ]
  }
 ],
 "metadata": {
  "colab": {
   "collapsed_sections": [
    "0CMIKMxxexD6",
    "_v0QXCxyexEG",
    "MwvjHrLWexEZ",
    "G8KlPid_exEn",
    "ayibfwkqexE-",
    "Un8OG9cDexFc",
    "Kc2lC1-5exGu",
    "i7dReUadexHP"
   ],
   "name": "clusterai_2020_clase01_eda_subtes.ipynb",
   "provenance": []
  },
  "kernelspec": {
   "display_name": "Python 3",
   "language": "python",
   "name": "python3"
  },
  "language_info": {
   "codemirror_mode": {
    "name": "ipython",
    "version": 3
   },
   "file_extension": ".py",
   "mimetype": "text/x-python",
   "name": "python",
   "nbconvert_exporter": "python",
   "pygments_lexer": "ipython3",
   "version": "3.8.3"
  }
 },
 "nbformat": 4,
 "nbformat_minor": 1
}
